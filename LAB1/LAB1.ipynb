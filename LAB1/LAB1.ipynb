{
 "cells": [
  {
   "cell_type": "markdown",
   "metadata": {},
   "source": [
    "# LAB: Dữ liệu với NumPy, Pandas và Matplotlib"
   ]
  },
  {
   "cell_type": "markdown",
   "metadata": {},
   "source": [
    "### Phần 1: NumPy cơ bản\n",
    "#### Bài tập 1\n",
    "\n"
   ]
  },
  {
   "cell_type": "code",
   "execution_count": null,
   "metadata": {
    "vscode": {
     "languageId": "plaintext"
    }
   },
   "outputs": [],
   "source": [
    "import numpy as np\n",
    "\n",
    "# 1. Tạo một mảng NumPy với các giá trị từ 1 đến 20\n",
    "array_1 = np.arange(1, 21)  # arange tạo ra mảng từ 1 đến 20\n",
    "print(\"Mảng từ 1 đến 20:\", array_1)\n",
    "\n",
    "# 2. Tìm tổng, giá trị lớn nhất, nhỏ nhất và trung bình của mảng\n",
    "print(\"Tổng:\", array_1.sum())  # Tính tổng của mảng\n",
    "print(\"Giá trị lớn nhất:\", array_1.max())  # Tìm giá trị lớn nhất\n",
    "print(\"Giá trị nhỏ nhất:\", array_1.min())  # Tìm giá trị nhỏ nhất\n",
    "print(\"Trung bình:\", array_1.mean())  # Tính trung bình của mảng\n",
    "\n",
    "# 3. Tạo một mảng 2D (3x5) chứa các số ngẫu nhiên từ 0 đến 100\n",
    "array_2d = np.random.randint(0, 101, (3, 5))  # random.randint tạo mảng ngẫu nhiên\n",
    "print(\"Mảng 2D:\", array_2d)\n",
    "\n",
    "# 4. Lấy hàng thứ 2 và cột thứ 3 của mảng 2D\n",
    "print(\"Hàng thứ 2:\", array_2d[1])  # Hàng thứ 2 là index 1\n",
    "print(\"Cột thứ 3:\", array_2d[:, 2])  # Cột thứ 3 là index 2\n"
   ]
  },
  {
   "cell_type": "markdown",
   "metadata": {},
   "source": [
    "#### Bài tập 2: Các thao tác nâng cao "
   ]
  },
  {
   "cell_type": "code",
   "execution_count": null,
   "metadata": {
    "vscode": {
     "languageId": "plaintext"
    }
   },
   "outputs": [],
   "source": [
    "# 1. Tạo một mảng NumPy chứa 20 giá trị ngẫu nhiên từ 0 đến 1\n",
    "random_array = np.random.rand(20)  # random.rand tạo ra mảng với giá trị từ 0 đến 1\n",
    "print(\"Mảng ngẫu nhiên từ 0 đến 1:\", random_array)\n",
    "\n",
    "# 2. Chuẩn hóa mảng này (đưa các giá trị về khoảng [0, 1])\n",
    "normalized_array = (random_array - random_array.min()) / (random_array.max() - random_array.min())  # Chuẩn hóa\n",
    "print(\"Mảng sau khi chuẩn hóa:\", normalized_array)\n",
    "\n",
    "# 3. Tính tích vô hướng (dot product) của hai mảng 1D\n",
    "a = np.array([1, 2, 3])\n",
    "b = np.array([4, 5, 6])\n",
    "dot_product = np.dot(a, b)  # Tính tích vô hướng\n",
    "print(\"Tích vô hướng của a và b:\", dot_product)\n",
    "\n",
    "# 4. Tạo một ma trận 5x5 và tính định thức, nghịch đảo\n",
    "matrix = np.random.randint(1, 10, (5, 5))  # Tạo ma trận 5x5 ngẫu nhiên\n",
    "print(\"Ma trận:\", matrix)\n",
    "determinant = np.linalg.det(matrix)  # Tính định thức của ma trận\n",
    "print(\"Định thức của ma trận:\", determinant)\n",
    "\n",
    "if determinant != 0:\n",
    "    inverse_matrix = np.linalg.inv(matrix)  # Tính nghịch đảo nếu định thức khác 0\n",
    "    print(\"Ma trận nghịch đảo:\", inverse_matrix)\n",
    "else:\n",
    "    print(\"Ma trận không khả nghịch (định thức = 0).\")\n"
   ]
  },
  {
   "cell_type": "markdown",
   "metadata": {},
   "source": [
    "### Phần 2: Pandas cơ bản\n",
    "#### Bài tập 3: Làm quen với DataFrame"
   ]
  },
  {
   "cell_type": "code",
   "execution_count": null,
   "metadata": {
    "vscode": {
     "languageId": "plaintext"
    }
   },
   "outputs": [],
   "source": [
    "import pandas as pd\n",
    "\n",
    "# 1. Tạo DataFrame\n",
    "data = {\n",
    "    \"Name\": [\"Alice\", \"Bob\", \"Charlie\", \"David\", \"Eva\"],\n",
    "    \"Age\": [23, 25, 22, 24, 21],\n",
    "    \"Score\": [85, 90, 78, 92, 88]\n",
    "}\n",
    "df = pd.DataFrame(data)\n",
    "print(\"DataFrame:\", df)\n",
    "\n",
    "# 2. Tính giá trị trung bình của cột \"Score\"\n",
    "print(\"Điểm trung bình:\", df[\"Score\"].mean())  # Tính giá trị trung bình của cột Score\n",
    "\n",
    "# 3. Lọc các hàng có \"Score\" lớn hơn 85\n",
    "filtered_df = df[df[\"Score\"] > 85]  # Lọc các hàng có Score > 85\n",
    "print(\"Các hàng có Score > 85:\", filtered_df)\n"
   ]
  },
  {
   "cell_type": "markdown",
   "metadata": {},
   "source": [
    "#### Bài tập 4: Đọc và phân tích dữ liệu từ file"
   ]
  },
  {
   "cell_type": "code",
   "execution_count": null,
   "metadata": {
    "vscode": {
     "languageId": "plaintext"
    }
   },
   "outputs": [],
   "source": [
    "# Giả sử bạn đã tải file \"Iris.csv\" từ Kaggle và lưu nó vào thư mục làm việc của bạn.\n",
    "\n",
    "# 1. Đọc dữ liệu từ file CSV vào DataFrame\n",
    "iris_df = pd.read_csv(\"Iris.csv\")\n",
    "\n",
    "# 2. Hiển thị thông tin cơ bản\n",
    "print(\"Thông tin tổng quan về dữ liệu:\", iris_df.info())\n",
    "print(\"Mô tả dữ liệu:\", iris_df.describe())\n",
    "\n",
    "# 3. Tính toán cơ bản\n",
    "print(\"Trung bình sepal_length:\", iris_df[\"sepal_length\"].mean())\n",
    "print(\"Giá trị lớn nhất sepal_length:\", iris_df[\"sepal_length\"].max())\n",
    "print(\"Giá trị nhỏ nhất sepal_length:\", iris_df[\"sepal_length\"].min())\n"
   ]
  },
  {
   "cell_type": "markdown",
   "metadata": {},
   "source": [
    "### Phần 3: Làm sạch dữ liệu"
   ]
  },
  {
   "cell_type": "code",
   "execution_count": null,
   "metadata": {
    "vscode": {
     "languageId": "plaintext"
    }
   },
   "outputs": [],
   "source": [
    "# 1. Tạo DataFrame chứa dữ liệu thiếu\n",
    "data_with_missing = {\n",
    "    \"Name\": [\"Alice\", \"Bob\", \"Charlie\", \"David\", \"Eva\"],\n",
    "    \"Age\": [23, None, 25, 24, 22],\n",
    "    \"City\": [\"New York\", \"Boston\", None, \"Chicago\", \"Boston\"],\n",
    "    \"Salary\": [60000, 52000, None, 58000, None]\n",
    "}\n",
    "\n",
    "df_missing = pd.DataFrame(data_with_missing)\n",
    "print(\"Dữ liệu ban đầu:\", df_missing)\n",
    "\n",
    "# 2. Điền giá trị thiếu trong cột Age bằng giá trị trung bình\n",
    "df_missing[\"Age\"].fillna(df_missing[\"Age\"].mean(), inplace=True)\n",
    "print(\"Sau khi điền thiếu ở Age:\", df_missing)\n",
    "\n",
    "# 3. Xóa các hàng có nhiều hơn 1 giá trị thiếu\n",
    "df_missing.dropna(thresh=3, inplace=True)  # Giữ lại các hàng có ít nhất 3 giá trị không thiếu\n",
    "print(\"Sau khi xóa hàng thiếu nhiều hơn 1 cột:\", df_missing)\n",
    "\n",
    "# 4. Điền giá trị thiếu trong cột Salary bằng 50000\n",
    "df_missing[\"Salary\"].fillna(50000, inplace=True)\n",
    "print(\"Sau khi điền thiếu ở Salary:\", df_missing)\n"
   ]
  },
  {
   "cell_type": "markdown",
   "metadata": {},
   "source": [
    "### Phần 4: Trực quan hóa dữ liệu với Matplotlib"
   ]
  },
  {
   "cell_type": "code",
   "execution_count": null,
   "metadata": {
    "vscode": {
     "languageId": "plaintext"
    }
   },
   "outputs": [],
   "source": [
    "import matplotlib.pyplot as plt\n",
    "\n",
    "# 1. Biểu đồ đường hàm số y = x^2\n",
    "x = np.linspace(-10, 10, 100)  # Tạo 100 điểm trong khoảng từ -10 đến 10\n",
    "y = x ** 2  # Tính y = x^2\n",
    "plt.plot(x, y)\n",
    "plt.title('Biểu đồ đường hàm số y = x^2')\n",
    "plt.xlabel('x')\n",
    "plt.ylabel('y')\n",
    "plt.grid(True)\n",
    "plt.show()\n",
    "\n",
    "# 2. Biểu đồ cột điểm số\n",
    "df[\"Name\"] = df[\"Name\"].astype(str)  # Đảm bảo cột \"Name\" là kiểu chuỗi\n",
    "plt.bar(df[\"Name\"], df[\"Score\"])\n",
    "plt.title('Biểu đồ cột điểm số')\n",
    "plt.xlabel('Tên')\n",
    "plt.ylabel('Điểm')\n",
    "plt.show()\n",
    "\n",
    "# 3. Biểu đồ tròn cho Iris Dataset (giả sử bạn đã đọc dữ liệu Iris)\n",
    "species_count = iris_df[\"species\"].value_counts()  # Đếm số lượng mỗi loài\n",
    "plt.pie(species_count, labels=species_count.index, autopct='%1.1f%%', startangle=90)\n",
    "plt.title('Phần trăm mỗi loại hoa trong tập dữ liệu Iris')\n",
    "plt.show()\n"
   ]
  }
 ],
 "metadata": {
  "language_info": {
   "name": "python"
  }
 },
 "nbformat": 4,
 "nbformat_minor": 2
}
