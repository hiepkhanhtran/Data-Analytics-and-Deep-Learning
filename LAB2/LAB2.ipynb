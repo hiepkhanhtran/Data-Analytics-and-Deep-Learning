{
 "cells": [
  {
   "cell_type": "markdown",
   "metadata": {},
   "source": [
    "# LAB 2: BÀI THỰC HÀNH TRÌNH BÀY DỮ LIỆU\n"
   ]
  },
  {
   "cell_type": "markdown",
   "metadata": {},
   "source": [
    "## Phần 1: Thống kê dữ liệu"
   ]
  },
  {
   "cell_type": "code",
   "execution_count": null,
   "metadata": {
    "vscode": {
     "languageId": "plaintext"
    }
   },
   "outputs": [],
   "source": [
    "import pandas as pd\n",
    "\n",
    "# Tải dữ liệu từ file đã được xử lý\n",
    "data = pd.read_csv('processed_dulieuxettuyendaihoc.csv')\n",
    "\n",
    "# 1. Sắp xếp dữ liệu điểm DH1 theo thứ tự tăng dần\n",
    "sorted_DH1 = data['DH1'].sort_values()\n",
    "print(\"Sắp xếp điểm DH1 theo thứ tự tăng dần:\")\n",
    "print(sorted_DH1.head())\n",
    "\n",
    "# 2. Sắp xếp dữ liệu điểm DH2 theo thứ tự tăng dần theo nhóm giới tính\n",
    "sorted_DH2_by_GT = data.groupby('GT')['DH2'].apply(lambda x: x.sort_values())\n",
    "print(\"Sắp xếp điểm DH2 theo thứ tự tăng dần theo nhóm giới tính:\")\n",
    "print(sorted_DH2_by_GT)\n",
    "\n",
    "# 3. Pivot table thống kê DH1 theo KT (khối thi)\n",
    "pivot_KT = data.pivot_table(values='DH1', aggfunc=['count', 'sum', 'mean', 'median', 'min', 'max', 'std', 'quantile'])\n",
    "print(\"\\nPivot table DH1 theo khối thi (KT):\")\n",
    "print(pivot_KT)\n",
    "\n",
    "# 4. Pivot table thống kê DH1 theo KT và KV (khu vực thi)\n",
    "pivot_KT_KV = data.pivot_table(values='DH1', index=['KT', 'KV'], aggfunc=['count', 'sum', 'mean', 'median', 'min', 'max', 'std', 'quantile'])\n",
    "print(\"\\nPivot table DH1 theo khối thi (KT) và khu vực thi (KV):\")\n",
    "print(pivot_KT_KV)\n",
    "\n",
    "# 5. Pivot table thống kê DH1 theo KT, KV và DT (dân tộc)\n",
    "pivot_KT_KV_DT = data.pivot_table(values='DH1', index=['KT', 'KV', 'DT'], aggfunc=['count', 'sum', 'mean', 'median', 'min', 'max', 'std', 'quantile'])\n",
    "print(\"\\nPivot table DH1 theo khối thi (KT), khu vực thi (KV) và dân tộc (DT):\")\n",
    "print(pivot_KT_KV_DT)\n"
   ]
  },
  {
   "cell_type": "markdown",
   "metadata": {},
   "source": [
    "## Phần 2: Trình bày dữ liệu"
   ]
  },
  {
   "cell_type": "code",
   "execution_count": null,
   "metadata": {
    "vscode": {
     "languageId": "plaintext"
    }
   },
   "outputs": [],
   "source": [
    "import matplotlib.pyplot as plt\n",
    "import seaborn as sns\n",
    "\n",
    "# 1. Trình bày dữ liệu biến GT (Giới tính)\n",
    "# Lập bảng tần số và tần suất\n",
    "gt_counts = data['GT'].value_counts()\n",
    "gt_percentage = data['GT'].value_counts(normalize=True)\n",
    "\n",
    "print(\"\\nBảng tần số và tần suất của giới tính:\")\n",
    "print(gt_counts)\n",
    "print(gt_percentage)\n",
    "\n",
    "# Biểu đồ tần số (cột)\n",
    "plt.figure(figsize=(8, 6))\n",
    "sns.countplot(data=data, x='GT')\n",
    "plt.title('Biểu đồ tần số của Giới tính')\n",
    "plt.show()\n",
    "\n",
    "# Biểu đồ tần suất (tròn)\n",
    "plt.figure(figsize=(8, 6))\n",
    "gt_percentage.plot.pie(autopct='%1.1f%%', startangle=90, colors=['skyblue', 'lightgreen'])\n",
    "plt.title('Biểu đồ tần suất của Giới tính')\n",
    "plt.ylabel('')\n",
    "plt.show()\n",
    "\n",
    "# 2. Trình bày dữ liệu các biến US_TBM1, US_TBM2 và US_TBM3\n",
    "plt.figure(figsize=(15, 5))\n",
    "\n",
    "plt.subplot(1, 3, 1)\n",
    "sns.histplot(data['US_TBM1'], kde=True, color='blue')\n",
    "plt.title('Trình bày US_TBM1')\n",
    "\n",
    "plt.subplot(1, 3, 2)\n",
    "sns.histplot(data['US_TBM2'], kde=True, color='green')\n",
    "plt.title('Trình bày US_TBM2')\n",
    "\n",
    "plt.subplot(1, 3, 3)\n",
    "sns.histplot(data['US_TBM3'], kde=True, color='red')\n",
    "plt.title('Trình bày US_TBM3')\n",
    "\n",
    "plt.tight_layout()\n",
    "plt.show()\n",
    "\n",
    "# 3. Trình bày dữ liệu biến DT với các học sinh là nam\n",
    "male_data = data[data['GT'] == 'Nam']\n",
    "plt.figure(figsize=(8, 6))\n",
    "sns.countplot(data=male_data, x='DT')\n",
    "plt.title('Dữ liệu Dân tộc (DT) cho học sinh Nam')\n",
    "plt.show()\n",
    "\n",
    "# 4. Trình bày dữ liệu biến KV với các học sinh là nam thuộc dân tộc Kinh, có điểm thỏa mãn điều kiện (DH1 >= 5.0 và DH2 >= 4.0 và DH3 >= 4.0)\n",
    "filtered_data = male_data[(male_data['DT'] == 'Kinh') & \n",
    "                          (male_data['DH1'] >= 5.0) & \n",
    "                          (male_data['DH2'] >= 4.0) & \n",
    "                          (male_data['DH3'] >= 4.0)]\n",
    "\n",
    "plt.figure(figsize=(8, 6))\n",
    "sns.countplot(data=filtered_data, x='KV')\n",
    "plt.title('Dữ liệu khu vực (KV) cho học sinh Nam, Dân tộc Kinh với điểm thi thỏa mãn điều kiện')\n",
    "plt.show()\n",
    "\n",
    "# 5. Trình bày dữ liệu lần lượt các biến DH1, DH2, DH3 lớn hơn bằng 5.0 và thuộc khu vực 2NT\n",
    "condition = (data['DH1'] >= 5.0) & (data['DH2'] >= 5.0) & (data['DH3'] >= 5.0) & (data['KV'] == '2NT')\n",
    "filtered_data = data[condition]\n",
    "plt.figure(figsize=(12, 6))\n",
    "\n",
    "sns.histplot(filtered_data['DH1'], kde=True, color='blue', label='DH1')\n",
    "sns.histplot(filtered_data['DH2'], kde=True, color='green', label='DH2')\n",
    "sns.histplot(filtered_data['DH3'], kde=True, color='red', label='DH3')\n",
    "\n",
    "plt.legend()\n",
    "plt.title('Dữ liệu DH1, DH2, DH3 với điều kiện điểm thi >= 5 và KV = 2NT')\n",
    "plt.show()\n"
   ]
  },
  {
   "cell_type": "markdown",
   "metadata": {},
   "source": [
    "## Phần 3: Trực quan hóa dữ liệu theo nhóm phân loại\n",
    "\n"
   ]
  },
  {
   "cell_type": "code",
   "execution_count": null,
   "metadata": {
    "vscode": {
     "languageId": "plaintext"
    }
   },
   "outputs": [],
   "source": [
    "# 1. Trực quan dữ liệu học sinh nữ trên các nhóm XL1, XL2, XL3 dạng unstacked\n",
    "female_data = data[data['GT'] == 'Nữ']\n",
    "xl_counts = female_data.groupby('XL1').size()\n",
    "\n",
    "plt.figure(figsize=(8, 6))\n",
    "xl_counts.unstack().plot(kind='bar', stacked=False, color=['skyblue', 'lightgreen', 'orange', 'yellow', 'red'])\n",
    "plt.title('Trực quan dữ liệu học sinh nữ theo nhóm XL1, XL2, XL3')\n",
    "plt.xlabel('Xếp loại')\n",
    "plt.ylabel('Số lượng học sinh')\n",
    "plt.show()\n",
    "\n",
    "# 2. Trực quan dữ liệu KQXT trên nhóm học sinh có khối thi A, A1, B thuộc khu vực 1, 2\n",
    "filtered_data = data[(data['KT'].isin(['A', 'A1', 'B'])) & (data['KV'].isin([1, 2]))]\n",
    "plt.figure(figsize=(8, 6))\n",
    "sns.countplot(data=filtered_data, x='KQXT', hue='KT')\n",
    "plt.title('Trực quan dữ liệu KQXT trên các nhóm học sinh khối thi A, A1, B thuộc KV 1, 2')\n",
    "plt.show()\n",
    "\n",
    "# 3. Trực quan dữ liệu số lượng thí sinh từng khu vực dựa trên từng nhóm khối thi\n",
    "plt.figure(figsize=(8, 6))\n",
    "sns.countplot(data=data, x='KT', hue='KV')\n",
    "plt.title('Số lượng thí sinh theo khu vực dựa trên khối thi')\n",
    "plt.show()\n",
    "\n",
    "# 4. Trực quan dữ liệu số lượng thí sinh đậu, rớt trên từng nhóm khối thi\n",
    "plt.figure(figsize=(8, 6))\n",
    "sns.countplot(data=data, x='KT', hue='KQXT')\n",
    "plt.title('Số lượng thí sinh đậu và rớt trên từng nhóm khối thi')\n",
    "plt.show()\n",
    "\n",
    "# 5. Trực quan dữ liệu số lượng thí sinh đậu rớt trên từng nhóm khu vực\n",
    "plt.figure(figsize=(8, 6))\n",
    "sns.countplot(data=data, x='KV', hue='KQXT')\n",
    "plt.title('Số lượng thí sinh đậu và rớt trên từng nhóm khu vực')\n",
    "plt.show()\n",
    "\n",
    "# 6. Trực quan dữ liệu số lượng thí sinh đậu rớt dựa trên từng nhóm dân tộc\n",
    "plt.figure(figsize=(8, 6))\n",
    "sns.countplot(data=data, x='DT', hue='KQXT')\n",
    "plt.title('Số lượng thí sinh đậu và rớt theo từng nhóm dân tộc')\n",
    "plt.show()\n",
    "\n",
    "# 7. Trực quan dữ liệu số lượng thí sinh đậu rớt dựa trên từng nhóm giới tính\n",
    "plt.figure(figsize=(8, 6))\n",
    "sns.countplot(data=data, x='GT', hue='KQXT')\n",
    "plt.title('Số lượng thí sinh đậu và rớt theo từng nhóm giới tính')\n",
    "plt.show()\n"
   ]
  },
  {
   "cell_type": "markdown",
   "metadata": {},
   "source": [
    "## Phần 4: Trực quan hóa dữ liệu nâng cao\n"
   ]
  },
  {
   "cell_type": "code",
   "execution_count": null,
   "metadata": {
    "vscode": {
     "languageId": "plaintext"
    }
   },
   "outputs": [],
   "source": [
    "# 1. Vẽ biểu đồ đường Simple cho biến T1\n",
    "plt.figure(figsize=(10, 6))\n",
    "sns.lineplot(x=data.index, y=data['T1'], color='blue')\n",
    "plt.title('Biểu đồ đường cho biến T1')\n",
    "plt.show()\n",
    "\n",
    "# 2. Tạo biến phân loại (phanlopt1) cho môn toán (T1)\n",
    "def phanloai_t1(t1):\n",
    "    if t1 < 5.0:\n",
    "        return 'k'\n",
    "    elif 5.0 <= t1 < 7.0:\n",
    "        return 'tb'\n",
    "    elif 7.0 <= t1 < 8.0:\n",
    "        return 'k'\n",
    "    else:\n",
    "        return 'g'\n",
    "\n",
    "data['phanlopt1'] = data['T1'].apply(phanloai_t1)\n",
    "\n",
    "# 3. Lập bảng tần số cho biến phanloait1\n",
    "phanloait1_counts = data['phanlopt1'].value_counts()\n",
    "print(phanloait1_counts)\n",
    "\n",
    "# 4. Vẽ biểu đồ đường Multiple Line cho biến T1 được phân loại bởi biến phanlopt1\n",
    "plt.figure(figsize=(10, 6))\n",
    "sns.lineplot(x=data.index, y=data['T1'], hue=data['phanlopt1'], marker='o')\n",
    "plt.title('Biểu đồ đường Multiple Line cho biến T1 phân loại bởi phanlopt1')\n",
    "plt.show()\n",
    "\n",
    "# 5. Vẽ biểu đồ Drop-line cho biến T1 được phân loại bởi biến phanlopt1\n",
    "plt.figure(figsize=(10, 6))\n",
    "sns.lineplot(x=data.index, y=data['T1'], hue=data['phanlopt1'], markers='x', dashes=False)\n",
    "plt.title('Biểu đồ Drop-line cho biến T1 phân loại bởi phanlopt1')\n",
    "plt.show()\n"
   ]
  },
  {
   "cell_type": "markdown",
   "metadata": {},
   "source": [
    "## Phần 5: Mô tả dữ liệu và khảo sát dạng phân phối\n"
   ]
  },
  {
   "cell_type": "code",
   "execution_count": null,
   "metadata": {
    "vscode": {
     "languageId": "plaintext"
    }
   },
   "outputs": [],
   "source": [
    "# 1. Mô tả và khảo sát phân phối cho biến T1\n",
    "import numpy as np\n",
    "\n",
    "# Mô tả độ tập trung và phân tán của dữ liệu T1\n",
    "print(data['T1'].describe())\n",
    "\n",
    "# Vẽ biểu đồ Box-Plot\n",
    "plt.figure(figsize=(8, 6))\n",
    "sns.boxplot(x=data['T1'])\n",
    "plt.title('Box-Plot của biến T1')\n",
    "plt.show()\n",
    "\n",
    "# Vẽ biểu đồ Histogram\n",
    "plt.figure(figsize=(8, 6))\n",
    "sns.histplot(data['T1'], kde=True)\n",
    "plt.title('Histogram của biến T1')\n",
    "plt.show()\n",
    "\n",
    "# Kiểm chứng phân phối chuẩn QQ-Plot\n",
    "import scipy.stats as stats\n",
    "plt.figure(figsize=(8, 6))\n",
    "stats.probplot(data['T1'], dist=\"norm\", plot=plt)\n",
    "plt.title('QQ-Plot của biến T1')\n",
    "plt.show()\n",
    "\n",
    "# 2. Mô tả và khảo sát phân phối cho biến T1 trên từng nhóm phân lớp\n",
    "plt.figure(figsize=(10, 6))\n",
    "sns.boxplot(x='phanlopt1', y='T1', data=data)\n",
    "plt.title('Box-Plot của T1 theo phân lớp phanlopt1')\n",
    "plt.show()\n",
    "\n",
    "# 3. Khảo sát tương quan giữa biến DH1 và T1\n",
    "corr = data[['DH1', 'T1']].corr()\n",
    "print(\"Correlation giữa DH1 và T1:\")\n",
    "print(corr)\n",
    "\n",
    "# Vẽ biểu đồ Scatter giữa DH1 và T1\n",
    "plt.figure(figsize=(8, 6))\n",
    "sns.scatterplot(x=data['DH1'], y=data['T1'])\n",
    "plt.title('Scatter plot giữa DH1 và T1')\n",
    "plt.show()\n",
    "\n",
    "# 4. Khảo sát tương quan giữa DH1 và T1 trên từng nhóm khu vực\n",
    "plt.figure(figsize=(8, 6))\n",
    "sns.scatterplot(data=data, x='DH1', y='T1', hue='KV')\n",
    "plt.title('Khảo sát tương quan giữa DH1 và T1 theo nhóm khu vực')\n",
    "plt.show()\n",
    "\n",
    "# 5. Khảo sát tương quan giữa các biến DH1, DH2, DH3\n",
    "corr_matrix = data[['DH1', 'DH2', 'DH3']].corr()\n",
    "print(\"Ma trận tương quan giữa DH1, DH2 và DH3:\")\n",
    "print(corr_matrix)\n",
    "\n",
    "# Vẽ biểu đồ Scatter giữa các biến\n",
    "sns.pairplot(data[['DH1', 'DH2', 'DH3']])\n",
    "plt.title('Scatter plot giữa DH1, DH2 và DH3')\n",
    "plt.show()\n"
   ]
  }
 ],
 "metadata": {
  "language_info": {
   "name": "python"
  }
 },
 "nbformat": 4,
 "nbformat_minor": 2
}
