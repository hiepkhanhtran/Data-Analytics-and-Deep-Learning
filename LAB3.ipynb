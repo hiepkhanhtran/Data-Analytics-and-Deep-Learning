{
 "cells": [
  {
   "attachments": {},
   "cell_type": "markdown",
   "metadata": {},
   "source": [
    "# Làm sạch dữ liệu cơ bản\n"
   ]
  },
  {
   "attachments": {},
   "cell_type": "markdown",
   "metadata": {},
   "source": [
    "## 1. Tạo dữ liệu"
   ]
  },
  {
   "cell_type": "code",
   "execution_count": 2,
   "metadata": {},
   "outputs": [
    {
     "name": "stdout",
     "output_type": "stream",
     "text": [
      "   id   name  age                email   salary\n",
      "0   1    Anh   15       anh@vlu.edu.vn      NaN\n",
      "1   2  Phong   14  phong@vanlanguni.vn  70000.0\n",
      "2   3    Phú   18        phu@yahoo.com  10000.0\n",
      "3   4     Em   28         em@gmail.com  25000.0\n",
      "4   5   None   50                 None  15000.0\n"
     ]
    }
   ],
   "source": [
    "import pandas as pd\n",
    "data = {\n",
    "    \"id\" : [1,2,3,4,5],\n",
    "    \"name\" : [ \"Anh\", \"Phong\", \"Phú\", \"Em\", None],\n",
    "    \"age\" : [15,14,18,28,50],\n",
    "    \"email\" : [\"anh@vlu.edu.vn\", \"phong@vanlanguni.vn\", \"phu@yahoo.com\", \"em@gmail.com\", None],\n",
    "    \"salary\" : [None, 70000, 10000, 25000, 15000]\n",
    "}\n",
    "df = pd.DataFrame(data)\n",
    "print(df)"
   ]
  },
  {
   "cell_type": "code",
   "execution_count": 3,
   "metadata": {},
   "outputs": [
    {
     "data": {
      "text/html": [
       "<div>\n",
       "<style scoped>\n",
       "    .dataframe tbody tr th:only-of-type {\n",
       "        vertical-align: middle;\n",
       "    }\n",
       "\n",
       "    .dataframe tbody tr th {\n",
       "        vertical-align: top;\n",
       "    }\n",
       "\n",
       "    .dataframe thead th {\n",
       "        text-align: right;\n",
       "    }\n",
       "</style>\n",
       "<table border=\"1\" class=\"dataframe\">\n",
       "  <thead>\n",
       "    <tr style=\"text-align: right;\">\n",
       "      <th></th>\n",
       "      <th>id</th>\n",
       "      <th>name</th>\n",
       "      <th>age</th>\n",
       "      <th>email</th>\n",
       "      <th>salary</th>\n",
       "    </tr>\n",
       "  </thead>\n",
       "  <tbody>\n",
       "    <tr>\n",
       "      <th>0</th>\n",
       "      <td>1</td>\n",
       "      <td>Anh</td>\n",
       "      <td>15</td>\n",
       "      <td>anh@vlu.edu.vn</td>\n",
       "      <td>NaN</td>\n",
       "    </tr>\n",
       "    <tr>\n",
       "      <th>1</th>\n",
       "      <td>2</td>\n",
       "      <td>Phong</td>\n",
       "      <td>14</td>\n",
       "      <td>phong@vanlanguni.vn</td>\n",
       "      <td>70000.0</td>\n",
       "    </tr>\n",
       "    <tr>\n",
       "      <th>2</th>\n",
       "      <td>3</td>\n",
       "      <td>Phú</td>\n",
       "      <td>18</td>\n",
       "      <td>phu@yahoo.com</td>\n",
       "      <td>10000.0</td>\n",
       "    </tr>\n",
       "    <tr>\n",
       "      <th>3</th>\n",
       "      <td>4</td>\n",
       "      <td>Em</td>\n",
       "      <td>28</td>\n",
       "      <td>em@gmail.com</td>\n",
       "      <td>25000.0</td>\n",
       "    </tr>\n",
       "    <tr>\n",
       "      <th>4</th>\n",
       "      <td>5</td>\n",
       "      <td>None</td>\n",
       "      <td>50</td>\n",
       "      <td>None</td>\n",
       "      <td>15000.0</td>\n",
       "    </tr>\n",
       "  </tbody>\n",
       "</table>\n",
       "</div>"
      ],
      "text/plain": [
       "   id   name  age                email   salary\n",
       "0   1    Anh   15       anh@vlu.edu.vn      NaN\n",
       "1   2  Phong   14  phong@vanlanguni.vn  70000.0\n",
       "2   3    Phú   18        phu@yahoo.com  10000.0\n",
       "3   4     Em   28         em@gmail.com  25000.0\n",
       "4   5   None   50                 None  15000.0"
      ]
     },
     "execution_count": 3,
     "metadata": {},
     "output_type": "execute_result"
    }
   ],
   "source": [
    "# Lấy ra 5 dòng đầu tiên\n",
    "df.head()"
   ]
  },
  {
   "cell_type": "code",
   "execution_count": 4,
   "metadata": {},
   "outputs": [
    {
     "data": {
      "text/plain": [
       "id        0\n",
       "name      1\n",
       "age       0\n",
       "email     1\n",
       "salary    1\n",
       "dtype: int64"
      ]
     },
     "execution_count": 4,
     "metadata": {},
     "output_type": "execute_result"
    }
   ],
   "source": [
    "# Kiểm tra dữ liệu thiếu\n",
    "df.isnull().sum()"
   ]
  },
  {
   "cell_type": "code",
   "execution_count": 10,
   "metadata": {},
   "outputs": [],
   "source": [
    "# Điền giá trị thiếu bằng giá trị trung bình cho cột salary\n",
    "df[\"salary\"].fillna(df[\"salary\"].mean(),inplace=True)"
   ]
  },
  {
   "cell_type": "code",
   "execution_count": 11,
   "metadata": {},
   "outputs": [],
   "source": [
    "#  Điền giá trị thiếu bằng \n",
    "df[\"name\"].fillna(\"Unknow\",inplace=True)\n",
    "df[\"email\"].fillna(\"Unknow\",inplace=True)"
   ]
  },
  {
   "cell_type": "code",
   "execution_count": 12,
   "metadata": {},
   "outputs": [
    {
     "data": {
      "text/plain": [
       "id        0\n",
       "name      0\n",
       "age       0\n",
       "email     0\n",
       "salary    0\n",
       "dtype: int64"
      ]
     },
     "execution_count": 12,
     "metadata": {},
     "output_type": "execute_result"
    }
   ],
   "source": [
    "# Kiểm tra lại dữ liệu thiếu\n",
    "df.isnull().sum()"
   ]
  },
  {
   "cell_type": "code",
   "execution_count": 14,
   "metadata": {},
   "outputs": [
    {
     "data": {
      "text/html": [
       "<div>\n",
       "<style scoped>\n",
       "    .dataframe tbody tr th:only-of-type {\n",
       "        vertical-align: middle;\n",
       "    }\n",
       "\n",
       "    .dataframe tbody tr th {\n",
       "        vertical-align: top;\n",
       "    }\n",
       "\n",
       "    .dataframe thead th {\n",
       "        text-align: right;\n",
       "    }\n",
       "</style>\n",
       "<table border=\"1\" class=\"dataframe\">\n",
       "  <thead>\n",
       "    <tr style=\"text-align: right;\">\n",
       "      <th></th>\n",
       "      <th>id</th>\n",
       "      <th>name</th>\n",
       "      <th>age</th>\n",
       "      <th>email</th>\n",
       "      <th>salary</th>\n",
       "    </tr>\n",
       "  </thead>\n",
       "  <tbody>\n",
       "    <tr>\n",
       "      <th>0</th>\n",
       "      <td>1</td>\n",
       "      <td>Anh</td>\n",
       "      <td>15</td>\n",
       "      <td>anh@vlu.edu.vn</td>\n",
       "      <td>30000.0</td>\n",
       "    </tr>\n",
       "    <tr>\n",
       "      <th>1</th>\n",
       "      <td>2</td>\n",
       "      <td>Phong</td>\n",
       "      <td>14</td>\n",
       "      <td>phong@vanlanguni.vn</td>\n",
       "      <td>70000.0</td>\n",
       "    </tr>\n",
       "    <tr>\n",
       "      <th>2</th>\n",
       "      <td>3</td>\n",
       "      <td>Phú</td>\n",
       "      <td>18</td>\n",
       "      <td>phu@yahoo.com</td>\n",
       "      <td>10000.0</td>\n",
       "    </tr>\n",
       "    <tr>\n",
       "      <th>3</th>\n",
       "      <td>4</td>\n",
       "      <td>Em</td>\n",
       "      <td>28</td>\n",
       "      <td>em@gmail.com</td>\n",
       "      <td>25000.0</td>\n",
       "    </tr>\n",
       "    <tr>\n",
       "      <th>4</th>\n",
       "      <td>5</td>\n",
       "      <td>Unknown</td>\n",
       "      <td>50</td>\n",
       "      <td>Unknown</td>\n",
       "      <td>15000.0</td>\n",
       "    </tr>\n",
       "  </tbody>\n",
       "</table>\n",
       "</div>"
      ],
      "text/plain": [
       "   id     name  age                email   salary\n",
       "0   1      Anh   15       anh@vlu.edu.vn  30000.0\n",
       "1   2    Phong   14  phong@vanlanguni.vn  70000.0\n",
       "2   3      Phú   18        phu@yahoo.com  10000.0\n",
       "3   4       Em   28         em@gmail.com  25000.0\n",
       "4   5  Unknown   50              Unknown  15000.0"
      ]
     },
     "execution_count": 14,
     "metadata": {},
     "output_type": "execute_result"
    }
   ],
   "source": [
    "df.head()"
   ]
  },
  {
   "cell_type": "code",
   "execution_count": 15,
   "metadata": {},
   "outputs": [],
   "source": [
    "# Chuẩn hóa cột name bằng cách việt hóa chữ cái đầu\n",
    "df[\"name\"] = df[\"name\"].str.title()"
   ]
  },
  {
   "cell_type": "code",
   "execution_count": 18,
   "metadata": {},
   "outputs": [
    {
     "data": {
      "text/html": [
       "<div>\n",
       "<style scoped>\n",
       "    .dataframe tbody tr th:only-of-type {\n",
       "        vertical-align: middle;\n",
       "    }\n",
       "\n",
       "    .dataframe tbody tr th {\n",
       "        vertical-align: top;\n",
       "    }\n",
       "\n",
       "    .dataframe thead th {\n",
       "        text-align: right;\n",
       "    }\n",
       "</style>\n",
       "<table border=\"1\" class=\"dataframe\">\n",
       "  <thead>\n",
       "    <tr style=\"text-align: right;\">\n",
       "      <th></th>\n",
       "      <th>id</th>\n",
       "      <th>name</th>\n",
       "      <th>age</th>\n",
       "      <th>email</th>\n",
       "      <th>salary</th>\n",
       "    </tr>\n",
       "  </thead>\n",
       "  <tbody>\n",
       "    <tr>\n",
       "      <th>0</th>\n",
       "      <td>1</td>\n",
       "      <td>Anh</td>\n",
       "      <td>15</td>\n",
       "      <td>anh@vlu.edu.vn</td>\n",
       "      <td>30000.0</td>\n",
       "    </tr>\n",
       "    <tr>\n",
       "      <th>1</th>\n",
       "      <td>2</td>\n",
       "      <td>Phong</td>\n",
       "      <td>14</td>\n",
       "      <td>phong@vanlanguni.vn</td>\n",
       "      <td>70000.0</td>\n",
       "    </tr>\n",
       "    <tr>\n",
       "      <th>2</th>\n",
       "      <td>3</td>\n",
       "      <td>Phú</td>\n",
       "      <td>18</td>\n",
       "      <td>phu@yahoo.com</td>\n",
       "      <td>10000.0</td>\n",
       "    </tr>\n",
       "    <tr>\n",
       "      <th>3</th>\n",
       "      <td>4</td>\n",
       "      <td>Em</td>\n",
       "      <td>28</td>\n",
       "      <td>em@gmail.com</td>\n",
       "      <td>25000.0</td>\n",
       "    </tr>\n",
       "    <tr>\n",
       "      <th>4</th>\n",
       "      <td>5</td>\n",
       "      <td>Unknown</td>\n",
       "      <td>50</td>\n",
       "      <td>unknown</td>\n",
       "      <td>15000.0</td>\n",
       "    </tr>\n",
       "  </tbody>\n",
       "</table>\n",
       "</div>"
      ],
      "text/plain": [
       "   id     name  age                email   salary\n",
       "0   1      Anh   15       anh@vlu.edu.vn  30000.0\n",
       "1   2    Phong   14  phong@vanlanguni.vn  70000.0\n",
       "2   3      Phú   18        phu@yahoo.com  10000.0\n",
       "3   4       Em   28         em@gmail.com  25000.0\n",
       "4   5  Unknown   50              unknown  15000.0"
      ]
     },
     "execution_count": 18,
     "metadata": {},
     "output_type": "execute_result"
    }
   ],
   "source": [
    "# Chuẩn hóa cột email bằng cách chuyển về chữ thường\n",
    "df[\"email\"] = df[\"email\"].str.lower()\n",
    "\n",
    "df"
   ]
  },
  {
   "cell_type": "code",
   "execution_count": 19,
   "metadata": {},
   "outputs": [],
   "source": [
    "# Lưu dữ liệu đã làm sạch\n",
    "df.to_csv(\"Dulieulamsach.csv\", index=False)"
   ]
  },
  {
   "attachments": {},
   "cell_type": "markdown",
   "metadata": {},
   "source": [
    "# BÀI TẬP VỀ NHÀ"
   ]
  },
  {
   "attachments": {},
   "cell_type": "markdown",
   "metadata": {},
   "source": [
    "### Cho dữ liệu dirty_data.csv\n",
    "1. Kiểm tra dữ liệu bị thiếu:\n",
    "    - Kiểm tra các cột có dữ liệu thiếu\n",
    "    - Điền giá trị phù hợp hoặc loại bỏ các hàng có quá nhiều dữ liệu thiếu\n",
    "2. Phát hiện và sửa lỗi dữ liệu bất thường:\n",
    "    - Tìm các giá trị bất thường trong cột tuổi (age) có thể là âm hoặc quá lớn\n",
    "    - Kiểm tra cột thu nhập (income) để phát hiện dữ liệu bị sai \n",
    "3. Chuẩn hóa dạng dữ liệu\n",
    "    - Chuyển hóa cột ngày sinh và dạng chuẩn yyyy-mm-dd \n",
    "    - Chuẩn hóa dữ liệu trong cột giới tính(gender) để chỉ có 2 giới tính hợp lệ là \"Male\" và \"Female\"\n",
    "4. Xóa bỏ dữ liệu trùng lặp\n",
    "    - Xác định và xóa các bản ghi trùng lặp dựa trên thông tin khách hàng\n",
    "5. Lưu tập dữ liệu đã làm sạch thành tệp mới clean_data.csv\n"
   ]
  },
  {
   "cell_type": "code",
   "execution_count": 30,
   "metadata": {},
   "outputs": [
    {
     "name": "stdout",
     "output_type": "stream",
     "text": [
      "Dữ liệu thiếu trong các cột:\n",
      "customer_id    0\n",
      "name           0\n",
      "age            1\n",
      "gender         0\n",
      "dob            0\n",
      "income         1\n",
      "email          0\n",
      "dtype: int64\n",
      "\n",
      "Dữ liệu sau khi làm sạch:\n",
      "   customer_id          name   age   gender         dob       income  \\\n",
      "0          101  Nguyen Van A  25.0     Male  1998-05-22  1200.000000   \n",
      "1          102    Tran Thi B  42.0   Female  1981-07-14  4500.000000   \n",
      "2          103      Le Van C  38.2     Male  1995-12-03  3200.000000   \n",
      "3          104  Hoang Minh D  38.2  Unknown  1980-08-25  2966.666667   \n",
      "4          105    Pham Thi E  30.0  Unknown  1993-09-30  2966.666667   \n",
      "5          106  Nguyen Van F  38.2  Unknown  1996-11-02  2500.000000   \n",
      "6          107     Bui Thi G  29.0   Female  1994-06-15  3800.000000   \n",
      "7          108    Dang Van H  40.0  Unknown  1990-01-29  4200.000000   \n",
      "8          109      Vo Thi I  27.0     Male  1995-04-10  3900.000000   \n",
      "9          110    Phan Van J  22.0  Unknown  1999-12-20  2966.666667   \n",
      "\n",
      "           email  \n",
      "0  a@example.com  \n",
      "1  b@example.com  \n",
      "2  c@example.com  \n",
      "3  d@example.com  \n",
      "4  e@example.com  \n",
      "5  f@example.com  \n",
      "6  g@example.com  \n",
      "7  h@example.com  \n",
      "8  i@example.com  \n",
      "9  j@example.com  \n"
     ]
    }
   ],
   "source": [
    "import pandas as pd\n",
    "\n",
    "# Đọc dữ liệu từ tệp dirty_data.csv\n",
    "df = pd.read_csv('dirty_data.csv')\n",
    "\n",
    "# 1. Kiểm tra dữ liệu bị thiếu:\n",
    "# Kiểm tra các cột có dữ liệu thiếu\n",
    "missing_data = df.isnull().sum()\n",
    "print(\"Dữ liệu thiếu trong các cột:\")\n",
    "print(missing_data)\n",
    "\n",
    "# Điền giá trị phù hợp cho các cột thiếu:\n",
    "# - Đối với cột 'income', điền giá trị trung bình\n",
    "df['income'] = pd.to_numeric(df['income'], errors='coerce')  # Chuyển đổi thành NaN nếu giá trị không phải số\n",
    "df['income'].fillna(df['income'].mean(), inplace=True)  # Điền giá trị trung bình cho cột 'income'\n",
    "\n",
    "# - Đối với cột 'age', điền giá trị trung bình nếu thiếu\n",
    "df['age'].fillna(df['age'].mean(), inplace=True)\n",
    "\n",
    "# - Đối với cột 'name', thay thế giá trị thiếu bằng 'Unknown'\n",
    "df['name'].fillna('Unknown', inplace=True)\n",
    "\n",
    "# - Đối với cột 'gender', thay thế các giá trị không hợp lệ\n",
    "df['gender'] = df['gender'].apply(lambda x: 'Male' if str(x).lower() == 'male' else ('Female' if str(x).lower() == 'female' else 'Unknown'))\n",
    "\n",
    "# 2. Phát hiện và sửa lỗi dữ liệu bất thường:\n",
    "# Tìm các giá trị bất thường trong cột tuổi (age) có thể là âm hoặc quá lớn (tuổi > 120)\n",
    "df['age'] = df['age'].apply(lambda x: df['age'].mean() if x < 0 or x > 120 else x)\n",
    "\n",
    "# Kiểm tra cột thu nhập (income) để phát hiện dữ liệu bị sai (thu nhập < 0)\n",
    "df['income'] = df['income'].apply(lambda x: df['income'].mean() if x < 0 else x)\n",
    "\n",
    "# 3. Chuẩn hóa dạng dữ liệu:\n",
    "# Chuyển hóa cột 'dob' thành định dạng yyyy-mm-dd\n",
    "df['dob'] = pd.to_datetime(df['dob'], errors='coerce').dt.strftime('%Y-%m-%d')\n",
    "\n",
    "# 4. Xóa bỏ dữ liệu trùng lặp:\n",
    "# Dựa trên cột 'customer_id' để xác định trùng lặp\n",
    "df.drop_duplicates(subset=['customer_id'], keep='first', inplace=True)\n",
    "\n",
    "# 5. Lưu tập dữ liệu đã làm sạch thành tệp mới clean_data.csv\n",
    "df.to_csv('clean_data.csv', index=False)\n",
    "\n",
    "# In kết quả sau khi làm sạch dữ liệu\n",
    "print(\"\\nDữ liệu sau khi làm sạch:\")\n",
    "print(df)\n"
   ]
  }
 ],
 "metadata": {
  "kernelspec": {
   "display_name": "Python 3",
   "language": "python",
   "name": "python3"
  },
  "language_info": {
   "codemirror_mode": {
    "name": "ipython",
    "version": 3
   },
   "file_extension": ".py",
   "mimetype": "text/x-python",
   "name": "python",
   "nbconvert_exporter": "python",
   "pygments_lexer": "ipython3",
   "version": "3.9.3 (tags/v3.9.3:e723086, Apr  2 2021, 11:35:20) [MSC v.1928 64 bit (AMD64)]"
  },
  "orig_nbformat": 4,
  "vscode": {
   "interpreter": {
    "hash": "11938c6bc6919ae2720b4d5011047913343b08a43b18698fd82dedb0d4417594"
   }
  }
 },
 "nbformat": 4,
 "nbformat_minor": 2
}
